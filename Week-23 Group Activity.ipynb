{
 "cells": [
  {
   "cell_type": "markdown",
   "id": "617c7f7b",
   "metadata": {},
   "source": [
    "# Week-23 Group Activity"
   ]
  },
  {
   "cell_type": "markdown",
   "id": "c1a12635",
   "metadata": {},
   "source": [
    "1. Expand the flask app from class to add functions to create, update, and delete records.\n",
    "Use the mongodb documentation https://docs.mongodb.com/manual/reference/ . Create can use insert_one method, update can use update_one, and delete can use delete_one"
   ]
  },
  {
   "cell_type": "code",
   "execution_count": null,
   "id": "cebc51d2",
   "metadata": {},
   "outputs": [],
   "source": []
  },
  {
   "cell_type": "code",
   "execution_count": null,
   "id": "74429bf4",
   "metadata": {},
   "outputs": [],
   "source": []
  },
  {
   "cell_type": "code",
   "execution_count": null,
   "id": "08606002",
   "metadata": {},
   "outputs": [],
   "source": []
  }
 ],
 "metadata": {
  "kernelspec": {
   "display_name": "Python 3 (ipykernel)",
   "language": "python",
   "name": "python3"
  },
  "language_info": {
   "codemirror_mode": {
    "name": "ipython",
    "version": 3
   },
   "file_extension": ".py",
   "mimetype": "text/x-python",
   "name": "python",
   "nbconvert_exporter": "python",
   "pygments_lexer": "ipython3",
   "version": "3.9.7"
  }
 },
 "nbformat": 4,
 "nbformat_minor": 5
}

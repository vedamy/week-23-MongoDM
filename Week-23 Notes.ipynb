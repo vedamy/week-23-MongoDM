{
 "cells": [
  {
   "cell_type": "markdown",
   "id": "25caf0e5",
   "metadata": {},
   "source": [
    "# Week-23 Notes"
   ]
  },
  {
   "cell_type": "code",
   "execution_count": 1,
   "id": "ce0f1789",
   "metadata": {},
   "outputs": [],
   "source": [
    "import pymongo\n",
    "import datetime\n",
    "\n",
    "#connect to mongodb on default port\n",
    "conn='mongodb://localhost:27017'\n",
    "client=pymongo.MongoClient(conn)\n",
    "\n",
    "#create a database\n",
    "sdb = client.shows_db\n",
    "\n",
    "#create a collection in that DB\n",
    "tv_shows = sdb.tv_shows"
   ]
  },
  {
   "cell_type": "code",
   "execution_count": 9,
   "id": "cf18f741",
   "metadata": {},
   "outputs": [
    {
     "data": {
      "text/plain": [
       "<pymongo.results.InsertOneResult at 0x249fdecb440>"
      ]
     },
     "execution_count": 9,
     "metadata": {},
     "output_type": "execute_result"
    }
   ],
   "source": [
    "#CREATE\n",
    "post_data = {'name':'My Life is Murder',\n",
    "            'seasons':2,\n",
    "             'duration':'45 minutes',\n",
    "             'year':2019,\n",
    "             'date_added':datetime.datetime.utcnow()\n",
    "            }\n",
    "\n",
    "tv_shows.insert_one(post_data)"
   ]
  },
  {
   "cell_type": "code",
   "execution_count": 10,
   "id": "a971ddac",
   "metadata": {},
   "outputs": [
    {
     "name": "stdout",
     "output_type": "stream",
     "text": [
      "{'_id': ObjectId('62213a527bd01e61b69e8836'), 'name': 'My Life is Murder', 'seasons': 2, 'duration': '45 minutes', 'year': 2019, 'date_added': datetime.datetime(2022, 3, 3, 21, 59, 46, 634000)}\n"
     ]
    }
   ],
   "source": [
    "#READ\n",
    "results= tv_shows.find()\n",
    "for result in results:\n",
    "    print(result)"
   ]
  },
  {
   "cell_type": "code",
   "execution_count": 11,
   "id": "18c20930",
   "metadata": {},
   "outputs": [
    {
     "data": {
      "text/plain": [
       "<pymongo.results.DeleteResult at 0x249fd902340>"
      ]
     },
     "execution_count": 11,
     "metadata": {},
     "output_type": "execute_result"
    }
   ],
   "source": [
    "#DELETE\n",
    "tv_shows.delete_one({'name':'My Life is Murder'})"
   ]
  },
  {
   "cell_type": "code",
   "execution_count": 12,
   "id": "7ee44c78",
   "metadata": {},
   "outputs": [],
   "source": [
    "#READ\n",
    "results= tv_shows.find()\n",
    "for result in results:\n",
    "    print(result)"
   ]
  },
  {
   "cell_type": "code",
   "execution_count": null,
   "id": "dbd9aae1",
   "metadata": {},
   "outputs": [],
   "source": []
  },
  {
   "cell_type": "code",
   "execution_count": null,
   "id": "bc45d59a",
   "metadata": {},
   "outputs": [],
   "source": []
  }
 ],
 "metadata": {
  "kernelspec": {
   "display_name": "Python 3 (ipykernel)",
   "language": "python",
   "name": "python3"
  },
  "language_info": {
   "codemirror_mode": {
    "name": "ipython",
    "version": 3
   },
   "file_extension": ".py",
   "mimetype": "text/x-python",
   "name": "python",
   "nbconvert_exporter": "python",
   "pygments_lexer": "ipython3",
   "version": "3.9.7"
  }
 },
 "nbformat": 4,
 "nbformat_minor": 5
}
